{
  "cells": [
    {
      "cell_type": "code",
      "execution_count": 3,
      "id": "97540f9b",
      "metadata": {
        "colab": {
          "base_uri": "https://localhost:8080/"
        },
        "id": "97540f9b",
        "outputId": "c74fbad2-84a8-4eb2-de6b-5a7cfa659174"
      },
      "outputs": [
        {
          "output_type": "stream",
          "name": "stdout",
          "text": [
            "\u001b[2K   \u001b[90m━━━━━━━━━━━━━━━━━━━━━━━━━━━━━━━━━━━━━━━━\u001b[0m \u001b[32m882.7/882.7 kB\u001b[0m \u001b[31m16.8 MB/s\u001b[0m eta \u001b[36m0:00:00\u001b[0m\n",
            "\u001b[2K   \u001b[90m━━━━━━━━━━━━━━━━━━━━━━━━━━━━━━━━━━━━━━━━\u001b[0m \u001b[32m363.4/363.4 MB\u001b[0m \u001b[31m3.2 MB/s\u001b[0m eta \u001b[36m0:00:00\u001b[0m\n",
            "\u001b[2K   \u001b[90m━━━━━━━━━━━━━━━━━━━━━━━━━━━━━━━━━━━━━━━━\u001b[0m \u001b[32m13.8/13.8 MB\u001b[0m \u001b[31m92.6 MB/s\u001b[0m eta \u001b[36m0:00:00\u001b[0m\n",
            "\u001b[2K   \u001b[90m━━━━━━━━━━━━━━━━━━━━━━━━━━━━━━━━━━━━━━━━\u001b[0m \u001b[32m24.6/24.6 MB\u001b[0m \u001b[31m94.5 MB/s\u001b[0m eta \u001b[36m0:00:00\u001b[0m\n",
            "\u001b[2K   \u001b[90m━━━━━━━━━━━━━━━━━━━━━━━━━━━━━━━━━━━━━━━━\u001b[0m \u001b[32m883.7/883.7 kB\u001b[0m \u001b[31m52.3 MB/s\u001b[0m eta \u001b[36m0:00:00\u001b[0m\n",
            "\u001b[2K   \u001b[90m━━━━━━━━━━━━━━━━━━━━━━━━━━━━━━━━━━━━━━━━\u001b[0m \u001b[32m664.8/664.8 MB\u001b[0m \u001b[31m2.5 MB/s\u001b[0m eta \u001b[36m0:00:00\u001b[0m\n",
            "\u001b[2K   \u001b[90m━━━━━━━━━━━━━━━━━━━━━━━━━━━━━━━━━━━━━━━━\u001b[0m \u001b[32m211.5/211.5 MB\u001b[0m \u001b[31m4.8 MB/s\u001b[0m eta \u001b[36m0:00:00\u001b[0m\n",
            "\u001b[2K   \u001b[90m━━━━━━━━━━━━━━━━━━━━━━━━━━━━━━━━━━━━━━━━\u001b[0m \u001b[32m56.3/56.3 MB\u001b[0m \u001b[31m40.7 MB/s\u001b[0m eta \u001b[36m0:00:00\u001b[0m\n",
            "\u001b[2K   \u001b[90m━━━━━━━━━━━━━━━━━━━━━━━━━━━━━━━━━━━━━━━━\u001b[0m \u001b[32m127.9/127.9 MB\u001b[0m \u001b[31m19.3 MB/s\u001b[0m eta \u001b[36m0:00:00\u001b[0m\n",
            "\u001b[2K   \u001b[90m━━━━━━━━━━━━━━━━━━━━━━━━━━━━━━━━━━━━━━━━\u001b[0m \u001b[32m207.5/207.5 MB\u001b[0m \u001b[31m5.1 MB/s\u001b[0m eta \u001b[36m0:00:00\u001b[0m\n",
            "\u001b[2K   \u001b[90m━━━━━━━━━━━━━━━━━━━━━━━━━━━━━━━━━━━━━━━━\u001b[0m \u001b[32m188.7/188.7 MB\u001b[0m \u001b[31m5.9 MB/s\u001b[0m eta \u001b[36m0:00:00\u001b[0m\n",
            "\u001b[2K   \u001b[90m━━━━━━━━━━━━━━━━━━━━━━━━━━━━━━━━━━━━━━━━\u001b[0m \u001b[32m21.1/21.1 MB\u001b[0m \u001b[31m66.4 MB/s\u001b[0m eta \u001b[36m0:00:00\u001b[0m\n",
            "\u001b[?25hPython: 3.11.13 (main, Jun  4 2025, 08:57:29) [GCC 11.4.0]\n",
            "PyTorch CUDA available: True\n",
            "CUDA device: NVIDIA L4\n"
          ]
        }
      ],
      "source": [
        "# Install Ultralytics (runtime). Run this cell first in Colab.\n",
        "!pip -q install ultralytics==8.3.10\n",
        "\n",
        "import torch, os, sys\n",
        "print(\"Python:\", sys.version.splitlines()[0])\n",
        "print(\"PyTorch CUDA available:\", torch.cuda.is_available())\n",
        "if torch.cuda.is_available():\n",
        "    try:\n",
        "        print(\"CUDA device:\", torch.cuda.get_device_name(0))\n",
        "    except Exception as e:\n",
        "        print(\"CUDA device name unavailable:\", e)\n",
        "else:\n",
        "    print(\"WARNING: GPU not active. In Colab, go to Runtime > Change runtime type > GPU.\")\n"
      ]
    },
    {
      "cell_type": "code",
      "execution_count": 1,
      "id": "8688c07c",
      "metadata": {
        "colab": {
          "base_uri": "https://localhost:8080/"
        },
        "id": "8688c07c",
        "outputId": "0257b309-9cb3-4893-8d90-35ad6f78a58c"
      },
      "outputs": [
        {
          "output_type": "stream",
          "name": "stdout",
          "text": [
            "Mounted at /content/drive\n",
            "ls: /content/drive/MyDrive/dataset_kuliah: No such file or directory\n",
            "total 4809565\n",
            "-rw------- 1 root root       180 May 20 01:11 01 Monster Slide - Main (1).gslides\n",
            "-rw------- 1 root root       180 May 20 16:38 01 Monster Slide - Main.gslides\n",
            "-rw------- 1 root root       180 May 20 16:58 05 Monster Slide - Parallax Animation.gslides\n",
            "-rw------- 1 root root   8610312 Aug 30  2021 0-6905855117_20210830_221516_0000.pdf\n",
            "-rw------- 1 root root    752022 Sep 13  2021 0-7739150000_20210913_081004_0000.pdf\n",
            "-rw------- 1 root root   1619692 Oct 12  2023 07. Teknik-teknik Lanjutan untuk Pemecahan Masalah.pdf\n",
            "-rw------- 1 root root    393521 Sep 25  2023 13_Gabriel Batavia Xaverius_1B_Matdas Soal induksi_2341720184.pdf\n",
            "-rw------- 1 root root    371388 Sep 29  2023 13_Gabriel Batavia Xaverius_2341720184_Matdas5.pdf\n",
            "-rw------- 1 root root    461709 Oct  9  2023 13_Gabriel Batavia Xaverius_2341720184_Matdas Latihan Soal 6.3.pdf\n",
            "-rw------- 1 root root    680467 Oct  6  2023 13_Gabriel Batavia Xaverius_2341720184_MatDas Minggua-6.pdf\n",
            "-rw------- 1 root root   1156724 Oct 12  2023 13_Gabriel Batavia Xaverius_2341720184_RangkumanDanSoal.pdf\n",
            "-rw------- 1 root root    222959 Sep 11  2023 13_Gabriel Batavia Xaverius_2341720184_TugasMinggu3.pdf\n",
            "-rw------- 1 root root       180 Apr 24 06:40 14_GabrielBatavia_Kuis (1).gsheet\n",
            "-rw------- 1 root root       180 Apr 24 06:43 14_GabrielBatavia_Kuis.gsheet\n",
            "-rw------- 1 root root     34880 Apr 24 08:05 14_GabrielBatavia_Kuis.xlsx\n",
            "-rw------- 1 root root       180 May  6 04:54 14_GabrielBatavia_Logic Programming.gdoc\n",
            "-rw------- 1 root root    792672 May  7  2021 1620351997811.png\n",
            "-rw------- 1 root root     81700 May  7  2021 1620352061897 (1).png\n",
            "-rw------- 1 root root     81700 May  7  2021 1620352061897.png\n",
            "-rw------- 1 root root     96222 Jul 16  2021 1626403253859.png\n",
            "-rw------- 1 root root    217405 Jul 16  2021 1626403290918.png\n",
            "-rw------- 1 root root   2319679 May 20  2024 17161829769114505910359455256733.jpg\n",
            "-rw------- 1 root root       180 Jun  3  2021 1. BAB 10 Perubahan dan Pelestarian Lingkungan Hidup.gslides\n",
            "-rw------- 1 root root       180 Jun  3  2021 1. BAB 8 DUNIA HEWAN (ANIMALIA) PERTEMUAN 1.gslides\n",
            "-rw------- 1 root root       180 Jun  3  2021 1. BAB 9 EKOSISTEM..gslides\n",
            "-rw------- 1 root root    413877 Jul 15  2021 20210119_144533~2.jpg\n",
            "-rw------- 1 root root   1183735 Jan 19  2021 20210119_144533.jpg\n",
            "-rw------- 1 root root   1583211 Feb 19  2021 20210219_155431.jpg\n",
            "-rw------- 1 root root   1373797 Feb 19  2021 20210219_160353.jpg\n",
            "-rw------- 1 root root    141285 May  7  2021 20210507_091838.png\n",
            "-rw------- 1 root root   2848397 May  7  2021 20210507_091959.png\n",
            "-rw------- 1 root root    146393 May  7  2021 20210507_093615.png\n",
            "-rw------- 1 root root    751636 May  7  2021 20210507_093831.png\n",
            "-rw------- 1 root root  28998167 Oct 20  2021 2021-10-20 15-12-48.mkv\n",
            "-rw------- 1 root root  31059737 Oct 20  2021 2021-10-20 15-36-40.mkv\n",
            "-rw------- 1 root root  14591603 Oct 20  2021 2021-10-20 16-04-01.mkv\n",
            "-rw------- 1 root root  36249983 Oct 20  2021 2021-10-20 16-07-40.mkv\n",
            "-rw------- 1 root root  37739889 Nov  3  2021 2021-11-03 21-18-06.mkv\n",
            "-rw------- 1 root root  70293708 Nov  3  2021 2021-11-03 21-23-05.mkv\n",
            "-rw------- 1 root root   3991255 Apr 17  2022 20220417_224505.jpg\n",
            "-rw------- 1 root root  38973811 Sep  6  2024 2024-09-06 20-30-39.mkv\n",
            "-rw------- 1 root root   7609367 Dec 28  2024 2024-11-24 21-30-11.mkv\n",
            "-rw------- 1 root root       180 May 17  2022 207891_24732_soal_osp_kimia-2019-scan (1).gdoc\n",
            "-rw------- 1 root root       180 May 17  2022 207891_24732_soal_osp_kimia-2019-scan.gdoc\n",
            "-rw------- 1 root root    393268 Dec 29  2024 2 (1).pdf\n",
            "-rw------- 1 root root     52761 Aug 22  2024 221_MechaMinds_buktibayar.jpg\n",
            "-rw------- 1 root root    275068 Oct 17  2024 2341720184_Gabriel Batavia Xaverius_UTS BasisData Lanjutpdf.pdf\n",
            "-rw------- 1 root root       180 Jun  3  2021 2. BAB 7 DUNIA TUMBUHAN (PLANTAE) PTERIDOPHYTA (1).gslides\n",
            "-rw------- 1 root root       180 Jun  3  2021 2. BAB 7 DUNIA TUMBUHAN (PLANTAE) PTERIDOPHYTA.gslides\n"
          ]
        }
      ],
      "source": [
        "\n",
        "# Mount Google Drive (run in Colab)\n",
        "from google.colab import drive\n",
        "drive.mount('/content/drive', force_remount=False)\n",
        "\n",
        "# optional: list dataset folder to confirm path\n",
        "!ls -la /content/drive/MyDrive | head -n 50\n"
      ]
    },
    {
      "cell_type": "code",
      "execution_count": 2,
      "id": "b9e788ec",
      "metadata": {
        "colab": {
          "base_uri": "https://localhost:8080/"
        },
        "id": "b9e788ec",
        "outputId": "96a1f083-ab34-44c5-8fef-ddd434addb18"
      },
      "outputs": [
        {
          "output_type": "stream",
          "name": "stdout",
          "text": [
            "DRIVE_ROOT: /content/drive/MyDrive/yolo_title_clean\n",
            "MODEL_PATH: /content/drive/MyDrive/yolo_title_fixed/models/yolo/yolo11m.pt\n",
            "MODEL_ARCH: yolo11m.pt\n",
            "RUNS_DIR: /content/drive/MyDrive/yolo_runs\n",
            "RUN_NAME: title-colab-20250817-145222\n",
            "IMG_SIZE, EPOCHS, BATCH, WORKERS: 640 35 32 0\n"
          ]
        }
      ],
      "source": [
        "\n",
        "# Configuration — edit these variables to match your Drive paths\n",
        "from pathlib import Path\n",
        "from datetime import datetime\n",
        "DRIVE_ROOT = Path(\"/content/drive/MyDrive/yolo_title_clean\")  # dataset root in Drive\n",
        "MODEL_PATH = \"/content/drive/MyDrive/yolo_title_fixed/models/yolo/yolo11m.pt\"  # path to .pt in Drive\n",
        "MODEL_ARCH = \"yolo11m.pt\"            # fallback architecture if MODEL_PATH missing\n",
        "RUNS_DIR   = \"/content/drive/MyDrive/yolo_runs\"  # Drive destination for final runs\n",
        "\n",
        "# Training hyperparams (tweak)\n",
        "IMG_SIZE   = 640\n",
        "EPOCHS     = 35\n",
        "BATCH      = 32\n",
        "WORKERS    = 0\n",
        "SEED       = 42\n",
        "RUN_NAME   = \"title-colab-\" + datetime.utcnow().strftime(\"%Y%m%d-%H%M%S\")\n",
        "\n",
        "# Safety prints\n",
        "print(\"DRIVE_ROOT:\", DRIVE_ROOT)\n",
        "print(\"MODEL_PATH:\", MODEL_PATH)\n",
        "print(\"MODEL_ARCH:\", MODEL_ARCH)\n",
        "print(\"RUNS_DIR:\", RUNS_DIR)\n",
        "print(\"RUN_NAME:\", RUN_NAME)\n",
        "print(\"IMG_SIZE, EPOCHS, BATCH, WORKERS:\", IMG_SIZE, EPOCHS, BATCH, WORKERS)\n"
      ]
    },
    {
      "cell_type": "code",
      "execution_count": 4,
      "id": "c35b4c8d",
      "metadata": {
        "colab": {
          "base_uri": "https://localhost:8080/"
        },
        "id": "c35b4c8d",
        "outputId": "e530ddd9-16fd-4b66-f124-c7978d272627"
      },
      "outputs": [
        {
          "output_type": "stream",
          "name": "stdout",
          "text": [
            "Wrote temporary data.yaml -> /tmp/tmp_yolo_data_8nauo3wg.yaml\n",
            "Data dict preview: {'path': '/content/drive/MyDrive/yolo_title_clean', 'train': 'images/train', 'val': 'images/valid', 'test': 'images/test', 'nc': 2, 'names': {0: 'title', 1: 'body'}}\n"
          ]
        }
      ],
      "source": [
        "\n",
        "# Disable WandB BEFORE importing ultralytics, and write a temporary data.yaml for compatibility.\n",
        "import os, tempfile, yaml\n",
        "from pathlib import Path\n",
        "\n",
        "os.environ['WANDB_DISABLED'] = 'true'\n",
        "os.environ['WANDB_MODE'] = 'offline'\n",
        "os.environ['WANDB_SILENT'] = 'true'\n",
        "\n",
        "# Build data dict (adjust val -> valid/val detection)\n",
        "data_dict = {\n",
        "    \"path\": str(DRIVE_ROOT),\n",
        "    \"train\": \"images/train\",\n",
        "    \"val\":   \"images/valid\" if (DRIVE_ROOT/\"yolo_title_clean\"/\"images\"/\"valid\").exists() else \"images/valid\",\n",
        "    \"test\":  \"images/test\",\n",
        "    \"nc\": 2,\n",
        "    \"names\": {0: \"title\", 1: \"body\"}\n",
        "}\n",
        "\n",
        "# sanity checks before writing\n",
        "if not DRIVE_ROOT.exists():\n",
        "    raise FileNotFoundError(f\"DRIVE_ROOT not found: {DRIVE_ROOT}\")\n",
        "if not (DRIVE_ROOT/'images'/'train').exists():\n",
        "    raise FileNotFoundError(f\"train images missing: {DRIVE_ROOT/'images'/'train'}\")\n",
        "\n",
        "tmp = tempfile.NamedTemporaryFile(mode='w', delete=False, suffix='.yaml', prefix='tmp_yolo_data_')\n",
        "yaml.safe_dump(data_dict, tmp)\n",
        "tmp_yaml_path = tmp.name\n",
        "tmp.close()\n",
        "\n",
        "print('Wrote temporary data.yaml ->', tmp_yaml_path)\n",
        "print('Data dict preview:', data_dict)\n"
      ]
    },
    {
      "cell_type": "code",
      "execution_count": 5,
      "id": "de07183e",
      "metadata": {
        "colab": {
          "base_uri": "https://localhost:8080/"
        },
        "id": "de07183e",
        "outputId": "f3ee1ff7-0cd6-45c3-e12d-11ce56403060"
      },
      "outputs": [
        {
          "output_type": "stream",
          "name": "stdout",
          "text": [
            "Creating new Ultralytics Settings v0.0.6 file ✅ \n",
            "View Ultralytics Settings with 'yolo settings' or at '/root/.config/Ultralytics/settings.json'\n",
            "Update Settings with 'yolo settings key=value', i.e. 'yolo settings runs_dir=path/to/dir'. For help see https://docs.ultralytics.com/quickstart/#ultralytics-settings.\n",
            "Loading model from: yolo11m.pt\n",
            "Downloading https://github.com/ultralytics/assets/releases/download/v8.3.0/yolo11m.pt to 'yolo11m.pt'...\n"
          ]
        },
        {
          "output_type": "stream",
          "name": "stderr",
          "text": [
            "100%|██████████| 38.8M/38.8M [00:00<00:00, 88.8MB/s]\n"
          ]
        },
        {
          "output_type": "stream",
          "name": "stdout",
          "text": [
            "Model loaded.\n"
          ]
        }
      ],
      "source": [
        "\n",
        "# Load YOLO model from Drive if available, else fallback to architecture\n",
        "from ultralytics import YOLO\n",
        "from pathlib import Path\n",
        "model_src = MODEL_PATH if Path(MODEL_PATH).exists() else MODEL_ARCH\n",
        "print('Loading model from:', model_src)\n",
        "model = YOLO(str(model_src))\n",
        "print('Model loaded.')\n"
      ]
    },
    {
      "cell_type": "code",
      "execution_count": 6,
      "id": "f6945c68",
      "metadata": {
        "colab": {
          "base_uri": "https://localhost:8080/",
          "height": 1000
        },
        "id": "f6945c68",
        "outputId": "8cf9ef36-c8b1-45ad-94bb-db4dbb35cbec"
      },
      "outputs": [
        {
          "output_type": "stream",
          "name": "stdout",
          "text": [
            "Device: 0 Workers: 0\n",
            "New https://pypi.org/project/ultralytics/8.3.179 available 😃 Update with 'pip install -U ultralytics'\n",
            "Ultralytics 8.3.10 🚀 Python-3.11.13 torch-2.6.0+cu124 CUDA:0 (NVIDIA L4, 22693MiB)\n",
            "\u001b[34m\u001b[1mengine/trainer: \u001b[0mtask=detect, mode=train, model=yolo11m.pt, data=/tmp/tmp_yolo_data_8nauo3wg.yaml, epochs=35, time=None, patience=100, batch=32, imgsz=640, save=True, save_period=-1, cache=False, device=0, workers=0, project=yolo_colab_runs, name=title-colab-20250817-145222, exist_ok=True, pretrained=True, optimizer=auto, verbose=True, seed=42, deterministic=True, single_cls=False, rect=False, cos_lr=False, close_mosaic=10, resume=False, amp=True, fraction=1.0, profile=False, freeze=None, multi_scale=False, overlap_mask=True, mask_ratio=4, dropout=0.0, val=True, split=val, save_json=False, save_hybrid=False, conf=None, iou=0.7, max_det=300, half=False, dnn=False, plots=False, source=None, vid_stride=1, stream_buffer=False, visualize=False, augment=False, agnostic_nms=False, classes=None, retina_masks=False, embed=None, show=False, save_frames=False, save_txt=False, save_conf=False, save_crop=False, show_labels=True, show_conf=True, show_boxes=True, line_width=None, format=torchscript, keras=False, optimize=False, int8=False, dynamic=False, simplify=True, opset=None, workspace=4, nms=False, lr0=0.01, lrf=0.01, momentum=0.937, weight_decay=0.0005, warmup_epochs=3.0, warmup_momentum=0.8, warmup_bias_lr=0.1, box=7.5, cls=0.5, dfl=1.5, pose=12.0, kobj=1.0, label_smoothing=0.0, nbs=64, hsv_h=0.015, hsv_s=0.7, hsv_v=0.4, degrees=0.0, translate=0.1, scale=0.5, shear=0.0, perspective=0.0, flipud=0.0, fliplr=0.5, bgr=0.0, mosaic=1.0, mixup=0.0, copy_paste=0.0, copy_paste_mode=flip, auto_augment=randaugment, erasing=0.4, crop_fraction=1.0, cfg=None, tracker=botsort.yaml, save_dir=yolo_colab_runs/title-colab-20250817-145222\n",
            "Downloading https://ultralytics.com/assets/Arial.ttf to '/root/.config/Ultralytics/Arial.ttf'...\n"
          ]
        },
        {
          "output_type": "stream",
          "name": "stderr",
          "text": [
            "100%|██████████| 755k/755k [00:00<00:00, 118MB/s]\n"
          ]
        },
        {
          "output_type": "stream",
          "name": "stdout",
          "text": [
            "Overriding model.yaml nc=80 with nc=2\n",
            "\n",
            "                   from  n    params  module                                       arguments                     \n",
            "  0                  -1  1      1856  ultralytics.nn.modules.conv.Conv             [3, 64, 3, 2]                 \n",
            "  1                  -1  1     73984  ultralytics.nn.modules.conv.Conv             [64, 128, 3, 2]               \n",
            "  2                  -1  1    111872  ultralytics.nn.modules.block.C3k2            [128, 256, 1, True, 0.25]     \n",
            "  3                  -1  1    590336  ultralytics.nn.modules.conv.Conv             [256, 256, 3, 2]              \n",
            "  4                  -1  1    444928  ultralytics.nn.modules.block.C3k2            [256, 512, 1, True, 0.25]     \n",
            "  5                  -1  1   2360320  ultralytics.nn.modules.conv.Conv             [512, 512, 3, 2]              \n",
            "  6                  -1  1   1380352  ultralytics.nn.modules.block.C3k2            [512, 512, 1, True]           \n",
            "  7                  -1  1   2360320  ultralytics.nn.modules.conv.Conv             [512, 512, 3, 2]              \n",
            "  8                  -1  1   1380352  ultralytics.nn.modules.block.C3k2            [512, 512, 1, True]           \n",
            "  9                  -1  1    656896  ultralytics.nn.modules.block.SPPF            [512, 512, 5]                 \n",
            " 10                  -1  1    990976  ultralytics.nn.modules.block.C2PSA           [512, 512, 1]                 \n",
            " 11                  -1  1         0  torch.nn.modules.upsampling.Upsample         [None, 2, 'nearest']          \n",
            " 12             [-1, 6]  1         0  ultralytics.nn.modules.conv.Concat           [1]                           \n",
            " 13                  -1  1   1642496  ultralytics.nn.modules.block.C3k2            [1024, 512, 1, True]          \n",
            " 14                  -1  1         0  torch.nn.modules.upsampling.Upsample         [None, 2, 'nearest']          \n",
            " 15             [-1, 4]  1         0  ultralytics.nn.modules.conv.Concat           [1]                           \n",
            " 16                  -1  1    542720  ultralytics.nn.modules.block.C3k2            [1024, 256, 1, True]          \n",
            " 17                  -1  1    590336  ultralytics.nn.modules.conv.Conv             [256, 256, 3, 2]              \n",
            " 18            [-1, 13]  1         0  ultralytics.nn.modules.conv.Concat           [1]                           \n",
            " 19                  -1  1   1511424  ultralytics.nn.modules.block.C3k2            [768, 512, 1, True]           \n",
            " 20                  -1  1   2360320  ultralytics.nn.modules.conv.Conv             [512, 512, 3, 2]              \n",
            " 21            [-1, 10]  1         0  ultralytics.nn.modules.conv.Concat           [1]                           \n",
            " 22                  -1  1   1642496  ultralytics.nn.modules.block.C3k2            [1024, 512, 1, True]          \n",
            " 23        [16, 19, 22]  1   1412566  ultralytics.nn.modules.head.Detect           [2, [256, 512, 512]]          \n",
            "YOLO11m summary: 409 layers, 20,054,550 parameters, 20,054,534 gradients, 68.2 GFLOPs\n",
            "\n",
            "Transferred 643/649 items from pretrained weights\n",
            "\u001b[34m\u001b[1mTensorBoard: \u001b[0mStart with 'tensorboard --logdir yolo_colab_runs/title-colab-20250817-145222', view at http://localhost:6006/\n",
            "Freezing layer 'model.23.dfl.conv.weight'\n",
            "\u001b[34m\u001b[1mAMP: \u001b[0mrunning Automatic Mixed Precision (AMP) checks with YOLO11n...\n",
            "Downloading https://github.com/ultralytics/assets/releases/download/v8.3.0/yolo11n.pt to 'yolo11n.pt'...\n"
          ]
        },
        {
          "output_type": "stream",
          "name": "stderr",
          "text": [
            "100%|██████████| 5.35M/5.35M [00:00<00:00, 357MB/s]\n"
          ]
        },
        {
          "output_type": "stream",
          "name": "stdout",
          "text": [
            "\u001b[34m\u001b[1mAMP: \u001b[0mchecks passed ✅\n"
          ]
        },
        {
          "output_type": "stream",
          "name": "stderr",
          "text": [
            "\u001b[34m\u001b[1mtrain: \u001b[0mScanning /content/drive/MyDrive/yolo_title_clean/labels/train.cache... 3426 images, 197 backgrounds, 0 corrupt: 100%|██████████| 3446/3446 [00:00<?, ?it/s]\n"
          ]
        },
        {
          "output_type": "stream",
          "name": "stdout",
          "text": [
            "\u001b[34m\u001b[1malbumentations: \u001b[0mBlur(p=0.01, blur_limit=(3, 7)), MedianBlur(p=0.01, blur_limit=(3, 7)), ToGray(p=0.01, method='weighted_average', num_output_channels=3), CLAHE(p=0.01, clip_limit=(1.0, 4.0), tile_grid_size=(8, 8))\n"
          ]
        },
        {
          "output_type": "stream",
          "name": "stderr",
          "text": [
            "/usr/local/lib/python3.11/dist-packages/ultralytics/data/augment.py:1850: UserWarning: Argument(s) 'quality_lower' are not valid for transform ImageCompression\n",
            "  A.ImageCompression(quality_lower=75, p=0.0),\n",
            "\u001b[34m\u001b[1mval: \u001b[0mScanning /content/drive/MyDrive/yolo_title_clean/labels/valid.cache... 328 images, 22 backgrounds, 0 corrupt: 100%|██████████| 338/338 [00:00<?, ?it/s]"
          ]
        },
        {
          "output_type": "stream",
          "name": "stdout",
          "text": [
            "\u001b[34m\u001b[1moptimizer:\u001b[0m 'optimizer=auto' found, ignoring 'lr0=0.01' and 'momentum=0.937' and determining best 'optimizer', 'lr0' and 'momentum' automatically... \n",
            "\u001b[34m\u001b[1moptimizer:\u001b[0m AdamW(lr=0.001667, momentum=0.9) with parameter groups 106 weight(decay=0.0), 113 weight(decay=0.0005), 112 bias(decay=0.0)\n"
          ]
        },
        {
          "output_type": "stream",
          "name": "stderr",
          "text": [
            "\n"
          ]
        },
        {
          "output_type": "stream",
          "name": "stdout",
          "text": [
            "\u001b[34m\u001b[1mTensorBoard: \u001b[0mmodel graph visualization added ✅\n",
            "Image sizes 640 train, 640 val\n",
            "Using 0 dataloader workers\n",
            "Logging results to \u001b[1myolo_colab_runs/title-colab-20250817-145222\u001b[0m\n",
            "Starting training for 35 epochs...\n",
            "\n",
            "      Epoch    GPU_mem   box_loss   cls_loss   dfl_loss  Instances       Size\n"
          ]
        },
        {
          "output_type": "stream",
          "name": "stderr",
          "text": [
            "       1/35      16.6G      1.596      2.193      1.561        105        640: 100%|██████████| 108/108 [03:55<00:00,  2.18s/it]\n",
            "                 Class     Images  Instances      Box(P          R      mAP50  mAP50-95): 100%|██████████| 6/6 [06:11<00:00, 61.84s/it]"
          ]
        },
        {
          "output_type": "stream",
          "name": "stdout",
          "text": [
            "                   all        338        970     0.0249     0.0381    0.00737    0.00315\n"
          ]
        },
        {
          "output_type": "stream",
          "name": "stderr",
          "text": [
            "\n"
          ]
        },
        {
          "output_type": "stream",
          "name": "stdout",
          "text": [
            "\n",
            "      Epoch    GPU_mem   box_loss   cls_loss   dfl_loss  Instances       Size\n"
          ]
        },
        {
          "output_type": "stream",
          "name": "stderr",
          "text": [
            "       2/35      16.5G      1.746      2.005      1.667        138        640: 100%|██████████| 108/108 [02:25<00:00,  1.35s/it]\n",
            "                 Class     Images  Instances      Box(P          R      mAP50  mAP50-95): 100%|██████████| 6/6 [00:06<00:00,  1.06s/it]"
          ]
        },
        {
          "output_type": "stream",
          "name": "stdout",
          "text": [
            "                   all        338        970      0.311      0.242      0.167      0.068\n"
          ]
        },
        {
          "output_type": "stream",
          "name": "stderr",
          "text": [
            "\n"
          ]
        },
        {
          "output_type": "stream",
          "name": "stdout",
          "text": [
            "\n",
            "      Epoch    GPU_mem   box_loss   cls_loss   dfl_loss  Instances       Size\n"
          ]
        },
        {
          "output_type": "stream",
          "name": "stderr",
          "text": [
            "       3/35      16.6G      1.686      1.854       1.61        130        640: 100%|██████████| 108/108 [02:24<00:00,  1.33s/it]\n",
            "                 Class     Images  Instances      Box(P          R      mAP50  mAP50-95): 100%|██████████| 6/6 [00:06<00:00,  1.07s/it]"
          ]
        },
        {
          "output_type": "stream",
          "name": "stdout",
          "text": [
            "                   all        338        970      0.299      0.188      0.129     0.0513\n"
          ]
        },
        {
          "output_type": "stream",
          "name": "stderr",
          "text": [
            "\n"
          ]
        },
        {
          "output_type": "stream",
          "name": "stdout",
          "text": [
            "\n",
            "      Epoch    GPU_mem   box_loss   cls_loss   dfl_loss  Instances       Size\n"
          ]
        },
        {
          "output_type": "stream",
          "name": "stderr",
          "text": [
            "       4/35      16.6G       1.66      1.764      1.592        167        640: 100%|██████████| 108/108 [02:24<00:00,  1.34s/it]\n",
            "                 Class     Images  Instances      Box(P          R      mAP50  mAP50-95): 100%|██████████| 6/6 [00:06<00:00,  1.03s/it]"
          ]
        },
        {
          "output_type": "stream",
          "name": "stdout",
          "text": [
            "                   all        338        970      0.379      0.366      0.304      0.147\n"
          ]
        },
        {
          "output_type": "stream",
          "name": "stderr",
          "text": [
            "\n"
          ]
        },
        {
          "output_type": "stream",
          "name": "stdout",
          "text": [
            "\n",
            "      Epoch    GPU_mem   box_loss   cls_loss   dfl_loss  Instances       Size\n"
          ]
        },
        {
          "output_type": "stream",
          "name": "stderr",
          "text": [
            "       5/35      16.7G      1.544      1.611      1.519         79        640: 100%|██████████| 108/108 [02:23<00:00,  1.33s/it]\n",
            "                 Class     Images  Instances      Box(P          R      mAP50  mAP50-95): 100%|██████████| 6/6 [00:06<00:00,  1.01s/it]"
          ]
        },
        {
          "output_type": "stream",
          "name": "stdout",
          "text": [
            "                   all        338        970      0.505      0.371      0.373      0.165\n"
          ]
        },
        {
          "output_type": "stream",
          "name": "stderr",
          "text": [
            "\n"
          ]
        },
        {
          "output_type": "stream",
          "name": "stdout",
          "text": [
            "\n",
            "      Epoch    GPU_mem   box_loss   cls_loss   dfl_loss  Instances       Size\n"
          ]
        },
        {
          "output_type": "stream",
          "name": "stderr",
          "text": [
            "       6/35      16.6G       1.48      1.443      1.457        160        640: 100%|██████████| 108/108 [02:23<00:00,  1.33s/it]\n",
            "                 Class     Images  Instances      Box(P          R      mAP50  mAP50-95): 100%|██████████| 6/6 [00:05<00:00,  1.01it/s]"
          ]
        },
        {
          "output_type": "stream",
          "name": "stdout",
          "text": [
            "                   all        338        970      0.606      0.418      0.455      0.223\n"
          ]
        },
        {
          "output_type": "stream",
          "name": "stderr",
          "text": [
            "\n"
          ]
        },
        {
          "output_type": "stream",
          "name": "stdout",
          "text": [
            "\n",
            "      Epoch    GPU_mem   box_loss   cls_loss   dfl_loss  Instances       Size\n"
          ]
        },
        {
          "output_type": "stream",
          "name": "stderr",
          "text": [
            "       7/35      16.5G      1.404      1.336      1.408        101        640: 100%|██████████| 108/108 [02:24<00:00,  1.34s/it]\n",
            "                 Class     Images  Instances      Box(P          R      mAP50  mAP50-95): 100%|██████████| 6/6 [00:06<00:00,  1.01s/it]"
          ]
        },
        {
          "output_type": "stream",
          "name": "stdout",
          "text": [
            "                   all        338        970      0.588       0.48      0.483      0.239\n"
          ]
        },
        {
          "output_type": "stream",
          "name": "stderr",
          "text": [
            "\n"
          ]
        },
        {
          "output_type": "stream",
          "name": "stdout",
          "text": [
            "\n",
            "      Epoch    GPU_mem   box_loss   cls_loss   dfl_loss  Instances       Size\n"
          ]
        },
        {
          "output_type": "stream",
          "name": "stderr",
          "text": [
            "       8/35      16.6G      1.366      1.249      1.374        159        640: 100%|██████████| 108/108 [02:24<00:00,  1.34s/it]\n",
            "                 Class     Images  Instances      Box(P          R      mAP50  mAP50-95): 100%|██████████| 6/6 [00:06<00:00,  1.02s/it]"
          ]
        },
        {
          "output_type": "stream",
          "name": "stdout",
          "text": [
            "                   all        338        970      0.619      0.558      0.573      0.312\n"
          ]
        },
        {
          "output_type": "stream",
          "name": "stderr",
          "text": [
            "\n"
          ]
        },
        {
          "output_type": "stream",
          "name": "stdout",
          "text": [
            "\n",
            "      Epoch    GPU_mem   box_loss   cls_loss   dfl_loss  Instances       Size\n"
          ]
        },
        {
          "output_type": "stream",
          "name": "stderr",
          "text": [
            "       9/35      16.6G      1.334      1.176      1.355         54        640: 100%|██████████| 108/108 [02:24<00:00,  1.34s/it]\n",
            "                 Class     Images  Instances      Box(P          R      mAP50  mAP50-95): 100%|██████████| 6/6 [00:06<00:00,  1.00s/it]"
          ]
        },
        {
          "output_type": "stream",
          "name": "stdout",
          "text": [
            "                   all        338        970      0.691      0.561      0.641       0.34\n"
          ]
        },
        {
          "output_type": "stream",
          "name": "stderr",
          "text": [
            "\n"
          ]
        },
        {
          "output_type": "stream",
          "name": "stdout",
          "text": [
            "\n",
            "      Epoch    GPU_mem   box_loss   cls_loss   dfl_loss  Instances       Size\n"
          ]
        },
        {
          "output_type": "stream",
          "name": "stderr",
          "text": [
            "      10/35      16.6G      1.302      1.109       1.34        163        640: 100%|██████████| 108/108 [02:24<00:00,  1.33s/it]\n",
            "                 Class     Images  Instances      Box(P          R      mAP50  mAP50-95): 100%|██████████| 6/6 [00:06<00:00,  1.03s/it]"
          ]
        },
        {
          "output_type": "stream",
          "name": "stdout",
          "text": [
            "                   all        338        970      0.619      0.573      0.577      0.311\n"
          ]
        },
        {
          "output_type": "stream",
          "name": "stderr",
          "text": [
            "\n"
          ]
        },
        {
          "output_type": "stream",
          "name": "stdout",
          "text": [
            "\n",
            "      Epoch    GPU_mem   box_loss   cls_loss   dfl_loss  Instances       Size\n"
          ]
        },
        {
          "output_type": "stream",
          "name": "stderr",
          "text": [
            "      11/35      16.7G      1.256      1.055      1.314         74        640: 100%|██████████| 108/108 [02:23<00:00,  1.33s/it]\n",
            "                 Class     Images  Instances      Box(P          R      mAP50  mAP50-95): 100%|██████████| 6/6 [00:06<00:00,  1.03s/it]"
          ]
        },
        {
          "output_type": "stream",
          "name": "stdout",
          "text": [
            "                   all        338        970       0.68      0.614      0.646      0.348\n"
          ]
        },
        {
          "output_type": "stream",
          "name": "stderr",
          "text": [
            "\n"
          ]
        },
        {
          "output_type": "stream",
          "name": "stdout",
          "text": [
            "\n",
            "      Epoch    GPU_mem   box_loss   cls_loss   dfl_loss  Instances       Size\n"
          ]
        },
        {
          "output_type": "stream",
          "name": "stderr",
          "text": [
            "      12/35      16.6G      1.235     0.9958      1.293         46        640: 100%|██████████| 108/108 [02:23<00:00,  1.33s/it]\n",
            "                 Class     Images  Instances      Box(P          R      mAP50  mAP50-95): 100%|██████████| 6/6 [00:06<00:00,  1.05s/it]"
          ]
        },
        {
          "output_type": "stream",
          "name": "stdout",
          "text": [
            "                   all        338        970      0.743      0.694      0.719      0.382\n"
          ]
        },
        {
          "output_type": "stream",
          "name": "stderr",
          "text": [
            "\n"
          ]
        },
        {
          "output_type": "stream",
          "name": "stdout",
          "text": [
            "\n",
            "      Epoch    GPU_mem   box_loss   cls_loss   dfl_loss  Instances       Size\n"
          ]
        },
        {
          "output_type": "stream",
          "name": "stderr",
          "text": [
            "      13/35      16.7G      1.217     0.9722      1.281        166        640: 100%|██████████| 108/108 [02:23<00:00,  1.33s/it]\n",
            "                 Class     Images  Instances      Box(P          R      mAP50  mAP50-95): 100%|██████████| 6/6 [00:06<00:00,  1.04s/it]"
          ]
        },
        {
          "output_type": "stream",
          "name": "stdout",
          "text": [
            "                   all        338        970       0.74      0.658      0.708       0.36\n"
          ]
        },
        {
          "output_type": "stream",
          "name": "stderr",
          "text": [
            "\n"
          ]
        },
        {
          "output_type": "stream",
          "name": "stdout",
          "text": [
            "\n",
            "      Epoch    GPU_mem   box_loss   cls_loss   dfl_loss  Instances       Size\n"
          ]
        },
        {
          "output_type": "stream",
          "name": "stderr",
          "text": [
            "      14/35      16.5G      1.183     0.9275      1.252        170        640: 100%|██████████| 108/108 [02:23<00:00,  1.33s/it]\n",
            "                 Class     Images  Instances      Box(P          R      mAP50  mAP50-95): 100%|██████████| 6/6 [00:06<00:00,  1.01s/it]"
          ]
        },
        {
          "output_type": "stream",
          "name": "stdout",
          "text": [
            "                   all        338        970      0.743      0.648       0.72      0.441\n"
          ]
        },
        {
          "output_type": "stream",
          "name": "stderr",
          "text": [
            "\n"
          ]
        },
        {
          "output_type": "stream",
          "name": "stdout",
          "text": [
            "\n",
            "      Epoch    GPU_mem   box_loss   cls_loss   dfl_loss  Instances       Size\n"
          ]
        },
        {
          "output_type": "stream",
          "name": "stderr",
          "text": [
            "      15/35      16.6G      1.151     0.8971      1.236         69        640: 100%|██████████| 108/108 [02:23<00:00,  1.33s/it]\n",
            "                 Class     Images  Instances      Box(P          R      mAP50  mAP50-95): 100%|██████████| 6/6 [00:06<00:00,  1.02s/it]"
          ]
        },
        {
          "output_type": "stream",
          "name": "stdout",
          "text": [
            "                   all        338        970      0.764       0.72      0.779      0.462\n"
          ]
        },
        {
          "output_type": "stream",
          "name": "stderr",
          "text": [
            "\n"
          ]
        },
        {
          "output_type": "stream",
          "name": "stdout",
          "text": [
            "\n",
            "      Epoch    GPU_mem   box_loss   cls_loss   dfl_loss  Instances       Size\n"
          ]
        },
        {
          "output_type": "stream",
          "name": "stderr",
          "text": [
            "      16/35      16.5G      1.147     0.8651      1.239         89        640: 100%|██████████| 108/108 [02:24<00:00,  1.34s/it]\n",
            "                 Class     Images  Instances      Box(P          R      mAP50  mAP50-95): 100%|██████████| 6/6 [00:06<00:00,  1.05s/it]"
          ]
        },
        {
          "output_type": "stream",
          "name": "stdout",
          "text": [
            "                   all        338        970      0.797      0.719      0.786      0.469\n"
          ]
        },
        {
          "output_type": "stream",
          "name": "stderr",
          "text": [
            "\n"
          ]
        },
        {
          "output_type": "stream",
          "name": "stdout",
          "text": [
            "\n",
            "      Epoch    GPU_mem   box_loss   cls_loss   dfl_loss  Instances       Size\n"
          ]
        },
        {
          "output_type": "stream",
          "name": "stderr",
          "text": [
            "      17/35      16.6G      1.136     0.8462      1.225         80        640: 100%|██████████| 108/108 [02:24<00:00,  1.33s/it]\n",
            "                 Class     Images  Instances      Box(P          R      mAP50  mAP50-95): 100%|██████████| 6/6 [00:06<00:00,  1.04s/it]"
          ]
        },
        {
          "output_type": "stream",
          "name": "stdout",
          "text": [
            "                   all        338        970      0.795       0.69      0.756      0.435\n"
          ]
        },
        {
          "output_type": "stream",
          "name": "stderr",
          "text": [
            "\n"
          ]
        },
        {
          "output_type": "stream",
          "name": "stdout",
          "text": [
            "\n",
            "      Epoch    GPU_mem   box_loss   cls_loss   dfl_loss  Instances       Size\n"
          ]
        },
        {
          "output_type": "stream",
          "name": "stderr",
          "text": [
            "      18/35      16.7G      1.102     0.8177      1.203        110        640: 100%|██████████| 108/108 [02:23<00:00,  1.33s/it]\n",
            "                 Class     Images  Instances      Box(P          R      mAP50  mAP50-95): 100%|██████████| 6/6 [00:06<00:00,  1.01s/it]"
          ]
        },
        {
          "output_type": "stream",
          "name": "stdout",
          "text": [
            "                   all        338        970      0.797      0.736      0.785      0.478\n"
          ]
        },
        {
          "output_type": "stream",
          "name": "stderr",
          "text": [
            "\n"
          ]
        },
        {
          "output_type": "stream",
          "name": "stdout",
          "text": [
            "\n",
            "      Epoch    GPU_mem   box_loss   cls_loss   dfl_loss  Instances       Size\n"
          ]
        },
        {
          "output_type": "stream",
          "name": "stderr",
          "text": [
            "      19/35      16.6G      1.072     0.7869      1.186         69        640: 100%|██████████| 108/108 [02:24<00:00,  1.34s/it]\n",
            "                 Class     Images  Instances      Box(P          R      mAP50  mAP50-95): 100%|██████████| 6/6 [00:06<00:00,  1.04s/it]"
          ]
        },
        {
          "output_type": "stream",
          "name": "stdout",
          "text": [
            "                   all        338        970      0.799      0.738      0.805      0.488\n"
          ]
        },
        {
          "output_type": "stream",
          "name": "stderr",
          "text": [
            "\n"
          ]
        },
        {
          "output_type": "stream",
          "name": "stdout",
          "text": [
            "\n",
            "      Epoch    GPU_mem   box_loss   cls_loss   dfl_loss  Instances       Size\n"
          ]
        },
        {
          "output_type": "stream",
          "name": "stderr",
          "text": [
            "      20/35      16.6G      1.054     0.7573      1.188        130        640: 100%|██████████| 108/108 [02:24<00:00,  1.33s/it]\n",
            "                 Class     Images  Instances      Box(P          R      mAP50  mAP50-95): 100%|██████████| 6/6 [00:06<00:00,  1.05s/it]"
          ]
        },
        {
          "output_type": "stream",
          "name": "stdout",
          "text": [
            "                   all        338        970      0.865      0.724      0.807      0.514\n"
          ]
        },
        {
          "output_type": "stream",
          "name": "stderr",
          "text": [
            "\n"
          ]
        },
        {
          "output_type": "stream",
          "name": "stdout",
          "text": [
            "\n",
            "      Epoch    GPU_mem   box_loss   cls_loss   dfl_loss  Instances       Size\n"
          ]
        },
        {
          "output_type": "stream",
          "name": "stderr",
          "text": [
            "      21/35      16.6G      1.046     0.7497      1.171        136        640: 100%|██████████| 108/108 [02:24<00:00,  1.34s/it]\n",
            "                 Class     Images  Instances      Box(P          R      mAP50  mAP50-95): 100%|██████████| 6/6 [00:06<00:00,  1.03s/it]"
          ]
        },
        {
          "output_type": "stream",
          "name": "stdout",
          "text": [
            "                   all        338        970      0.787      0.775      0.818      0.517\n"
          ]
        },
        {
          "output_type": "stream",
          "name": "stderr",
          "text": [
            "\n"
          ]
        },
        {
          "output_type": "stream",
          "name": "stdout",
          "text": [
            "\n",
            "      Epoch    GPU_mem   box_loss   cls_loss   dfl_loss  Instances       Size\n"
          ]
        },
        {
          "output_type": "stream",
          "name": "stderr",
          "text": [
            "      22/35      16.7G      1.018     0.7134      1.151         85        640: 100%|██████████| 108/108 [02:24<00:00,  1.34s/it]\n",
            "                 Class     Images  Instances      Box(P          R      mAP50  mAP50-95): 100%|██████████| 6/6 [00:06<00:00,  1.02s/it]"
          ]
        },
        {
          "output_type": "stream",
          "name": "stdout",
          "text": [
            "                   all        338        970       0.82      0.757      0.817      0.538\n"
          ]
        },
        {
          "output_type": "stream",
          "name": "stderr",
          "text": [
            "\n"
          ]
        },
        {
          "output_type": "stream",
          "name": "stdout",
          "text": [
            "\n",
            "      Epoch    GPU_mem   box_loss   cls_loss   dfl_loss  Instances       Size\n"
          ]
        },
        {
          "output_type": "stream",
          "name": "stderr",
          "text": [
            "      23/35      16.6G      1.008     0.6947      1.142         91        640: 100%|██████████| 108/108 [02:24<00:00,  1.34s/it]\n",
            "                 Class     Images  Instances      Box(P          R      mAP50  mAP50-95): 100%|██████████| 6/6 [00:06<00:00,  1.02s/it]"
          ]
        },
        {
          "output_type": "stream",
          "name": "stdout",
          "text": [
            "                   all        338        970      0.854      0.777      0.846      0.554\n"
          ]
        },
        {
          "output_type": "stream",
          "name": "stderr",
          "text": [
            "\n"
          ]
        },
        {
          "output_type": "stream",
          "name": "stdout",
          "text": [
            "\n",
            "      Epoch    GPU_mem   box_loss   cls_loss   dfl_loss  Instances       Size\n"
          ]
        },
        {
          "output_type": "stream",
          "name": "stderr",
          "text": [
            "      24/35      16.6G      1.011      0.706      1.148         82        640: 100%|██████████| 108/108 [02:24<00:00,  1.34s/it]\n",
            "                 Class     Images  Instances      Box(P          R      mAP50  mAP50-95): 100%|██████████| 6/6 [00:06<00:00,  1.01s/it]"
          ]
        },
        {
          "output_type": "stream",
          "name": "stdout",
          "text": [
            "                   all        338        970      0.824      0.808      0.845      0.553\n"
          ]
        },
        {
          "output_type": "stream",
          "name": "stderr",
          "text": [
            "\n"
          ]
        },
        {
          "output_type": "stream",
          "name": "stdout",
          "text": [
            "\n",
            "      Epoch    GPU_mem   box_loss   cls_loss   dfl_loss  Instances       Size\n"
          ]
        },
        {
          "output_type": "stream",
          "name": "stderr",
          "text": [
            "      25/35      16.6G     0.9717     0.6643      1.124         62        640: 100%|██████████| 108/108 [02:24<00:00,  1.34s/it]\n",
            "                 Class     Images  Instances      Box(P          R      mAP50  mAP50-95): 100%|██████████| 6/6 [00:06<00:00,  1.04s/it]"
          ]
        },
        {
          "output_type": "stream",
          "name": "stdout",
          "text": [
            "                   all        338        970      0.872      0.802       0.86      0.572\n"
          ]
        },
        {
          "output_type": "stream",
          "name": "stderr",
          "text": [
            "\n"
          ]
        },
        {
          "output_type": "stream",
          "name": "stdout",
          "text": [
            "Closing dataloader mosaic\n",
            "\u001b[34m\u001b[1malbumentations: \u001b[0mBlur(p=0.01, blur_limit=(3, 7)), MedianBlur(p=0.01, blur_limit=(3, 7)), ToGray(p=0.01, method='weighted_average', num_output_channels=3), CLAHE(p=0.01, clip_limit=(1.0, 4.0), tile_grid_size=(8, 8))\n",
            "\n",
            "      Epoch    GPU_mem   box_loss   cls_loss   dfl_loss  Instances       Size\n"
          ]
        },
        {
          "output_type": "stream",
          "name": "stderr",
          "text": [
            "/usr/local/lib/python3.11/dist-packages/ultralytics/data/augment.py:1850: UserWarning: Argument(s) 'quality_lower' are not valid for transform ImageCompression\n",
            "  A.ImageCompression(quality_lower=75, p=0.0),\n",
            "      26/35      16.7G     0.9052     0.5611      1.121         39        640: 100%|██████████| 108/108 [02:19<00:00,  1.29s/it]\n",
            "                 Class     Images  Instances      Box(P          R      mAP50  mAP50-95): 100%|██████████| 6/6 [00:06<00:00,  1.03s/it]"
          ]
        },
        {
          "output_type": "stream",
          "name": "stdout",
          "text": [
            "                   all        338        970      0.855      0.803      0.856      0.599\n"
          ]
        },
        {
          "output_type": "stream",
          "name": "stderr",
          "text": [
            "\n"
          ]
        },
        {
          "output_type": "stream",
          "name": "stdout",
          "text": [
            "\n",
            "      Epoch    GPU_mem   box_loss   cls_loss   dfl_loss  Instances       Size\n"
          ]
        },
        {
          "output_type": "stream",
          "name": "stderr",
          "text": [
            "      27/35      16.6G     0.8713     0.5401      1.098         97        640: 100%|██████████| 108/108 [02:20<00:00,  1.30s/it]\n",
            "                 Class     Images  Instances      Box(P          R      mAP50  mAP50-95): 100%|██████████| 6/6 [00:06<00:00,  1.02s/it]"
          ]
        },
        {
          "output_type": "stream",
          "name": "stdout",
          "text": [
            "                   all        338        970      0.873      0.813      0.863      0.594\n"
          ]
        },
        {
          "output_type": "stream",
          "name": "stderr",
          "text": [
            "\n"
          ]
        },
        {
          "output_type": "stream",
          "name": "stdout",
          "text": [
            "\n",
            "      Epoch    GPU_mem   box_loss   cls_loss   dfl_loss  Instances       Size\n"
          ]
        },
        {
          "output_type": "stream",
          "name": "stderr",
          "text": [
            "      28/35      16.5G     0.8421     0.5106      1.073         65        640: 100%|██████████| 108/108 [02:20<00:00,  1.30s/it]\n",
            "                 Class     Images  Instances      Box(P          R      mAP50  mAP50-95): 100%|██████████| 6/6 [00:06<00:00,  1.02s/it]"
          ]
        },
        {
          "output_type": "stream",
          "name": "stdout",
          "text": [
            "                   all        338        970      0.864      0.819      0.873      0.573\n"
          ]
        },
        {
          "output_type": "stream",
          "name": "stderr",
          "text": [
            "\n"
          ]
        },
        {
          "output_type": "stream",
          "name": "stdout",
          "text": [
            "\n",
            "      Epoch    GPU_mem   box_loss   cls_loss   dfl_loss  Instances       Size\n"
          ]
        },
        {
          "output_type": "stream",
          "name": "stderr",
          "text": [
            "      29/35      16.6G     0.8208     0.4956      1.064         61        640: 100%|██████████| 108/108 [02:19<00:00,  1.29s/it]\n",
            "                 Class     Images  Instances      Box(P          R      mAP50  mAP50-95): 100%|██████████| 6/6 [00:06<00:00,  1.01s/it]"
          ]
        },
        {
          "output_type": "stream",
          "name": "stdout",
          "text": [
            "                   all        338        970      0.883       0.82      0.883      0.608\n"
          ]
        },
        {
          "output_type": "stream",
          "name": "stderr",
          "text": [
            "\n"
          ]
        },
        {
          "output_type": "stream",
          "name": "stdout",
          "text": [
            "\n",
            "      Epoch    GPU_mem   box_loss   cls_loss   dfl_loss  Instances       Size\n"
          ]
        },
        {
          "output_type": "stream",
          "name": "stderr",
          "text": [
            "      30/35      16.5G     0.7998     0.4757      1.056         35        640: 100%|██████████| 108/108 [02:19<00:00,  1.29s/it]\n",
            "                 Class     Images  Instances      Box(P          R      mAP50  mAP50-95): 100%|██████████| 6/6 [00:06<00:00,  1.02s/it]"
          ]
        },
        {
          "output_type": "stream",
          "name": "stdout",
          "text": [
            "                   all        338        970      0.878      0.832      0.883      0.625\n"
          ]
        },
        {
          "output_type": "stream",
          "name": "stderr",
          "text": [
            "\n"
          ]
        },
        {
          "output_type": "stream",
          "name": "stdout",
          "text": [
            "\n",
            "      Epoch    GPU_mem   box_loss   cls_loss   dfl_loss  Instances       Size\n"
          ]
        },
        {
          "output_type": "stream",
          "name": "stderr",
          "text": [
            "      31/35      16.5G     0.7705     0.4642      1.026         41        640: 100%|██████████| 108/108 [02:19<00:00,  1.29s/it]\n",
            "                 Class     Images  Instances      Box(P          R      mAP50  mAP50-95): 100%|██████████| 6/6 [00:06<00:00,  1.04s/it]"
          ]
        },
        {
          "output_type": "stream",
          "name": "stdout",
          "text": [
            "                   all        338        970      0.918      0.815      0.886      0.634\n"
          ]
        },
        {
          "output_type": "stream",
          "name": "stderr",
          "text": [
            "\n"
          ]
        },
        {
          "output_type": "stream",
          "name": "stdout",
          "text": [
            "\n",
            "      Epoch    GPU_mem   box_loss   cls_loss   dfl_loss  Instances       Size\n"
          ]
        },
        {
          "output_type": "stream",
          "name": "stderr",
          "text": [
            "      32/35      16.5G     0.7451     0.4418      1.016         48        640: 100%|██████████| 108/108 [02:19<00:00,  1.29s/it]\n",
            "                 Class     Images  Instances      Box(P          R      mAP50  mAP50-95): 100%|██████████| 6/6 [00:06<00:00,  1.02s/it]"
          ]
        },
        {
          "output_type": "stream",
          "name": "stdout",
          "text": [
            "                   all        338        970      0.874      0.858      0.886      0.634\n"
          ]
        },
        {
          "output_type": "stream",
          "name": "stderr",
          "text": [
            "\n"
          ]
        },
        {
          "output_type": "stream",
          "name": "stdout",
          "text": [
            "\n",
            "      Epoch    GPU_mem   box_loss   cls_loss   dfl_loss  Instances       Size\n"
          ]
        },
        {
          "output_type": "stream",
          "name": "stderr",
          "text": [
            "      33/35      16.6G      0.716     0.4293     0.9986         35        640: 100%|██████████| 108/108 [02:19<00:00,  1.29s/it]\n",
            "                 Class     Images  Instances      Box(P          R      mAP50  mAP50-95): 100%|██████████| 6/6 [00:06<00:00,  1.03s/it]"
          ]
        },
        {
          "output_type": "stream",
          "name": "stdout",
          "text": [
            "                   all        338        970      0.882      0.842      0.884      0.658\n"
          ]
        },
        {
          "output_type": "stream",
          "name": "stderr",
          "text": [
            "\n"
          ]
        },
        {
          "output_type": "stream",
          "name": "stdout",
          "text": [
            "\n",
            "      Epoch    GPU_mem   box_loss   cls_loss   dfl_loss  Instances       Size\n"
          ]
        },
        {
          "output_type": "stream",
          "name": "stderr",
          "text": [
            "      34/35      16.7G     0.6985     0.4121     0.9926         50        640: 100%|██████████| 108/108 [02:19<00:00,  1.29s/it]\n",
            "                 Class     Images  Instances      Box(P          R      mAP50  mAP50-95): 100%|██████████| 6/6 [00:06<00:00,  1.02s/it]"
          ]
        },
        {
          "output_type": "stream",
          "name": "stdout",
          "text": [
            "                   all        338        970      0.886      0.842      0.895      0.664\n"
          ]
        },
        {
          "output_type": "stream",
          "name": "stderr",
          "text": [
            "\n"
          ]
        },
        {
          "output_type": "stream",
          "name": "stdout",
          "text": [
            "\n",
            "      Epoch    GPU_mem   box_loss   cls_loss   dfl_loss  Instances       Size\n"
          ]
        },
        {
          "output_type": "stream",
          "name": "stderr",
          "text": [
            "      35/35      16.6G     0.6852     0.4061      0.989         92        640: 100%|██████████| 108/108 [02:20<00:00,  1.30s/it]\n",
            "                 Class     Images  Instances      Box(P          R      mAP50  mAP50-95): 100%|██████████| 6/6 [00:06<00:00,  1.05s/it]"
          ]
        },
        {
          "output_type": "stream",
          "name": "stdout",
          "text": [
            "                   all        338        970      0.884      0.848      0.892      0.663\n"
          ]
        },
        {
          "output_type": "stream",
          "name": "stderr",
          "text": [
            "\n"
          ]
        },
        {
          "output_type": "stream",
          "name": "stdout",
          "text": [
            "\n",
            "35 epochs completed in 1.591 hours.\n",
            "Optimizer stripped from yolo_colab_runs/title-colab-20250817-145222/weights/last.pt, 40.5MB\n",
            "Optimizer stripped from yolo_colab_runs/title-colab-20250817-145222/weights/best.pt, 40.5MB\n",
            "\n",
            "Validating yolo_colab_runs/title-colab-20250817-145222/weights/best.pt...\n",
            "Ultralytics 8.3.10 🚀 Python-3.11.13 torch-2.6.0+cu124 CUDA:0 (NVIDIA L4, 22693MiB)\n",
            "YOLO11m summary (fused): 303 layers, 20,031,574 parameters, 0 gradients, 67.7 GFLOPs\n"
          ]
        },
        {
          "output_type": "stream",
          "name": "stderr",
          "text": [
            "                 Class     Images  Instances      Box(P          R      mAP50  mAP50-95): 100%|██████████| 6/6 [00:06<00:00,  1.06s/it]"
          ]
        },
        {
          "output_type": "stream",
          "name": "stdout",
          "text": [
            "                   all        338        970      0.886      0.842      0.895      0.663\n",
            "                 title        237        470      0.899      0.817      0.879      0.642\n",
            "                  body        257        500      0.873      0.867       0.91      0.685\n",
            "Speed: 0.2ms preprocess, 6.4ms inference, 0.0ms loss, 0.7ms postprocess per image\n",
            "⚠️ Abaikan error plotting Ultralytics: object of too small depth for desired array\n",
            "BEST exists: True yolo_colab_runs/title-colab-20250817-145222/weights/best.pt\n"
          ]
        },
        {
          "output_type": "stream",
          "name": "stderr",
          "text": [
            "\n",
            "/usr/local/lib/python3.11/dist-packages/numpy/_core/fromnumeric.py:3596: RuntimeWarning: Mean of empty slice.\n",
            "  return _methods._mean(a, axis=axis, dtype=dtype,\n",
            "/usr/local/lib/python3.11/dist-packages/numpy/_core/_methods.py:138: RuntimeWarning: invalid value encountered in scalar divide\n",
            "  ret = ret.dtype.type(ret / rcount)\n"
          ]
        }
      ],
      "source": [
        "\n",
        "# Train (uses a safe VM-local project name, then we move results to Drive)\n",
        "import torch\n",
        "from pathlib import Path\n",
        "\n",
        "project_simple = 'yolo_colab_runs'  # safe project name (no slashes)\n",
        "device = 0 if torch.cuda.is_available() else 'cpu'\n",
        "print('Device:', device, 'Workers:', WORKERS)\n",
        "\n",
        "try:\n",
        "    results = model.train(\n",
        "        data=tmp_yaml_path,\n",
        "        imgsz=IMG_SIZE,\n",
        "        epochs=EPOCHS,\n",
        "        batch=BATCH,\n",
        "        device=device,\n",
        "        name=RUN_NAME,\n",
        "        project=project_simple,\n",
        "        workers=WORKERS,\n",
        "        seed=SEED,\n",
        "        pretrained=True,\n",
        "        save=True,\n",
        "        verbose=True,\n",
        "        exist_ok=True,\n",
        "        plots=False,\n",
        "    )\n",
        "except ValueError as e:\n",
        "    print(\"⚠️ Abaikan error plotting Ultralytics:\", e)\n",
        "\n",
        "# pastikan weight ada\n",
        "from pathlib import Path\n",
        "best = Path(project_simple) / RUN_NAME / \"weights\" / \"best.pt\"\n",
        "print(\"BEST exists:\", best.exists(), best)\n",
        "\n"
      ]
    },
    {
      "cell_type": "code",
      "source": [
        "# @title Locate results.csv\n",
        "from pathlib import Path\n",
        "\n",
        "candidates = []\n",
        "\n",
        "# 1) Jika masih ada trainer di memori\n",
        "try:\n",
        "    from pathlib import Path\n",
        "    sd = getattr(getattr(model, \"trainer\", None), \"save_dir\", None)\n",
        "    if sd:\n",
        "        candidates.append(Path(str(sd)) / \"results.csv\")\n",
        "except NameError:\n",
        "    pass\n",
        "\n",
        "# 2) Lokasi-lokasi umum (VM & Drive)\n",
        "RUNS_DIR = Path(\"/content/drive/MyDrive/yolo_runs\")\n",
        "if \"RUN_NAME\" in globals():\n",
        "    candidates += [\n",
        "        Path(\"/content\") / \"yolo_colab_runs\" / RUN_NAME / \"results.csv\",\n",
        "        RUNS_DIR / RUN_NAME / \"results.csv\",\n",
        "    ]\n",
        "\n",
        "# 3) Fallback: cari file terbaru di Drive\n",
        "candidates += sorted(RUNS_DIR.glob(\"title-colab-*/results.csv\"), key=lambda p: p.stat().st_mtime, reverse=True)[:3]\n",
        "\n",
        "RESULTS_CSV = next((p for p in candidates if p.exists()), None)\n",
        "assert RESULTS_CSV and RESULTS_CSV.exists(), f\"Tidak menemukan results.csv. Cek folder: {candidates}\"\n",
        "print(\"results.csv →\", RESULTS_CSV)\n"
      ],
      "metadata": {
        "colab": {
          "base_uri": "https://localhost:8080/"
        },
        "id": "pNi6nxr5Sl5R",
        "outputId": "7a05f88c-ebe6-4e18-f982-5ecbf5516380"
      },
      "id": "pNi6nxr5Sl5R",
      "execution_count": 7,
      "outputs": [
        {
          "output_type": "stream",
          "name": "stdout",
          "text": [
            "results.csv → yolo_colab_runs/title-colab-20250817-145222/results.csv\n"
          ]
        }
      ]
    },
    {
      "cell_type": "code",
      "source": [
        "# @title Summary & best epoch\n",
        "import pandas as pd\n",
        "\n",
        "df = pd.read_csv(RESULTS_CSV)\n",
        "\n",
        "# pastikan ada kolom epoch\n",
        "if \"epoch\" not in df.columns:\n",
        "    df.insert(0, \"epoch\", range(len(df)))\n",
        "\n",
        "def col(*names):\n",
        "    for n in names:\n",
        "        if n in df.columns:\n",
        "            return n\n",
        "    return None\n",
        "\n",
        "c_map50    = col(\"metrics/mAP50(B)\", \"metrics/mAP50\")\n",
        "c_map95    = col(\"metrics/mAP50-95(B)\", \"metrics/mAP50-95\")\n",
        "c_prec     = col(\"metrics/precision(B)\", \"metrics/precision\")\n",
        "c_recall   = col(\"metrics/recall(B)\", \"metrics/recall\")\n",
        "\n",
        "best_idx = int(df[c_map50].fillna(-1).idxmax()) if c_map50 else len(df)-1\n",
        "best_row = df.loc[best_idx]\n",
        "\n",
        "print(\"Epoch terakhir :\", int(df['epoch'].iloc[-1]))\n",
        "print(\"Best epoch     :\", int(best_row['epoch']))\n",
        "if c_map50: print(\"  mAP50 best   :\", float(best_row[c_map50]))\n",
        "if c_map95: print(\"  mAP50-95 best:\", float(best_row[c_map95]))\n",
        "if c_prec:  print(\"  Precision best:\", float(best_row[c_prec]))\n",
        "if c_recall:print(\"  Recall best  :\", float(best_row[c_recall]))\n"
      ],
      "metadata": {
        "colab": {
          "base_uri": "https://localhost:8080/"
        },
        "id": "0pgq80TcSh9Y",
        "outputId": "1ba5fbc4-695a-4d16-96f5-b887fae1407c"
      },
      "id": "0pgq80TcSh9Y",
      "execution_count": 8,
      "outputs": [
        {
          "output_type": "stream",
          "name": "stdout",
          "text": [
            "Epoch terakhir : 35\n",
            "Best epoch     : 34\n",
            "  mAP50 best   : 0.89482\n",
            "  mAP50-95 best: 0.66365\n",
            "  Precision best: 0.88626\n",
            "  Recall best  : 0.84246\n"
          ]
        }
      ]
    },
    {
      "cell_type": "code",
      "source": [
        "# @title Plot curves (loss & metrics)\n",
        "import matplotlib.pyplot as plt\n",
        "\n",
        "# helper untuk plot kolom kalau ada\n",
        "def plot_if_exists(colname, title, ylabel):\n",
        "    if colname and colname in df.columns:\n",
        "        plt.figure()\n",
        "        plt.plot(df[\"epoch\"], df[colname])\n",
        "        plt.title(title)\n",
        "        plt.xlabel(\"epoch\")\n",
        "        plt.ylabel(ylabel)\n",
        "        # garis vertikal di best epoch (kalau ada mAP50)\n",
        "        if \"best_idx\" in globals():\n",
        "            plt.axvline(best_idx, linestyle=\"--\")\n",
        "        plt.show()\n",
        "\n",
        "# Train/Val losses\n",
        "plot_if_exists(\"train/box_loss\", \"Train box_loss\", \"loss\")\n",
        "plot_if_exists(\"train/cls_loss\", \"Train cls_loss\", \"loss\")\n",
        "plot_if_exists(\"train/dfl_loss\", \"Train dfl_loss\", \"loss\")\n",
        "\n",
        "plot_if_exists(\"val/box_loss\",   \"Val box_loss\",   \"loss\")\n",
        "plot_if_exists(\"val/cls_loss\",   \"Val cls_loss\",   \"loss\")\n",
        "plot_if_exists(\"val/dfl_loss\",   \"Val dfl_loss\",   \"loss\")\n",
        "\n",
        "# Metrics\n",
        "plot_if_exists(c_prec,   \"Precision (val)\", \"precision\")\n",
        "plot_if_exists(c_recall, \"Recall (val)\",    \"recall\")\n",
        "plot_if_exists(c_map50,  \"mAP@0.50 (val)\",  \"mAP50\")\n",
        "plot_if_exists(c_map95,  \"mAP@0.50:0.95 (val)\", \"mAP50-95\")\n"
      ],
      "metadata": {
        "colab": {
          "base_uri": "https://localhost:8080/",
          "height": 1000
        },
        "id": "qmziSHI_SeF6",
        "outputId": "3f595c17-669f-4e6d-b9f7-dbf424c8af93"
      },
      "id": "qmziSHI_SeF6",
      "execution_count": 9,
      "outputs": [
        {
          "output_type": "display_data",
          "data": {
            "text/plain": [
              "<Figure size 640x480 with 1 Axes>"
            ],
            "image/png": "[encoded data removed]"
          },
          "metadata": {}
        },
        {
          "output_type": "display_data",
          "data": {
            "text/plain": [
              "<Figure size 640x480 with 1 Axes>"
            ],
            "image/png": "[encoded data removed]"
          },
          "metadata": {}
        },
        {
          "output_type": "display_data",
          "data": {
            "text/plain": [
              "<Figure size 640x480 with 1 Axes>"
            ],
            "image/png": "[encoded data removed]"
          },
          "metadata": {}
        },
        {
          "output_type": "display_data",
          "data": {
            "text/plain": [
              "<Figure size 640x480 with 1 Axes>"
            ],
            "image/png": "[encoded data removed]"
          },
          "metadata": {}
        },
        {
          "output_type": "display_data",
          "data": {
            "text/plain": [
              "<Figure size 640x480 with 1 Axes>"
            ],
            "image/png": "[encoded data removed]"
          },
          "metadata": {}
        },
        {
          "output_type": "display_data",
          "data": {
            "text/plain": [
              "<Figure size 640x480 with 1 Axes>"
            ],
            "image/png": "[encoded data removed]"
          },
          "metadata": {}
        },
        {
          "output_type": "display_data",
          "data": {
            "text/plain": [
              "<Figure size 640x480 with 1 Axes>"
            ],
            "image/png": "[encoded data removed]"
          },
          "metadata": {}
        },
        {
          "output_type": "display_data",
          "data": {
            "text/plain": [
              "<Figure size 640x480 with 1 Axes>"
            ],
            "image/png": "[encoded data removed]"
          },
          "metadata": {}
        },
        {
          "output_type": "display_data",
          "data": {
            "text/plain": [
              "<Figure size 640x480 with 1 Axes>"
            ],
            "image/png": "[encoded data removed]"
          },
          "metadata": {}
        },
        {
          "output_type": "display_data",
          "data": {
            "text/plain": [
              "<Figure size 640x480 with 1 Axes>"
            ],
            "image/png": "[encoded data removed]"
          },
          "metadata": {}
        }
      ]
    },
    {
      "cell_type": "code",
      "execution_count": 10,
      "id": "83d49370",
      "metadata": {
        "colab": {
          "base_uri": "https://localhost:8080/"
        },
        "id": "83d49370",
        "outputId": "ef6f1f17-7747-4f97-b4ba-c2cf84b29b07"
      },
      "outputs": [
        {
          "output_type": "stream",
          "name": "stdout",
          "text": [
            "✅ Copied to Drive: /content/drive/MyDrive/yolo_runs/title-colab-20250817-145222\n",
            "best.pt exists: True\n",
            "last.pt exists: True\n"
          ]
        }
      ],
      "source": [
        "from pathlib import Path\n",
        "import shutil\n",
        "\n",
        "# ambil path yang benar dari Ultralytics biar anti-salah\n",
        "save_dir = Path(str(model.trainer.save_dir))  # contoh: /content/yolo_colab_runs/title-colab-20250816-221206\n",
        "dst_dir  = Path(RUNS_DIR) / save_dir.name     # /content/drive/MyDrive/yolo_runs/title-colab-...\n",
        "\n",
        "Path(dst_dir).mkdir(parents=True, exist_ok=True)\n",
        "shutil.copytree(save_dir, dst_dir, dirs_exist_ok=True)\n",
        "print(\"✅ Copied to Drive:\", dst_dir)\n",
        "\n",
        "print(\"best.pt exists:\", (dst_dir/\"weights\"/\"best.pt\").exists())\n",
        "print(\"last.pt exists:\", (dst_dir/\"weights\"/\"last.pt\").exists())\n"
      ]
    },
    {
      "cell_type": "code",
      "execution_count": 12,
      "id": "bb45a7c8",
      "metadata": {
        "colab": {
          "base_uri": "https://localhost:8080/"
        },
        "id": "bb45a7c8",
        "outputId": "e6c41090-743d-40f1-c430-d6ad4248ad56"
      },
      "outputs": [
        {
          "output_type": "stream",
          "name": "stdout",
          "text": [
            "Artifacts folder: /content/drive/MyDrive/yolo_runs/title-colab-20250817-145222\n",
            "best.pt exists: True /content/drive/MyDrive/yolo_runs/title-colab-20250817-145222/weights/best.pt\n",
            "last.pt exists: True /content/drive/MyDrive/yolo_runs/title-colab-20250817-145222/weights/last.pt\n"
          ]
        }
      ],
      "source": [
        "# Show paths to weights/artifacts on Drive\n",
        "from pathlib import Path\n",
        "dst_run_dir = Path(RUNS_DIR) / RUN_NAME\n",
        "best = dst_run_dir / 'weights' / 'best.pt'\n",
        "last = dst_run_dir / 'weights' / 'last.pt'\n",
        "print('Artifacts folder:', dst_run_dir)\n",
        "print('best.pt exists:', best.exists(), best)\n",
        "print('last.pt exists:', last.exists(), last)\n"
      ]
    },
    {
      "cell_type": "markdown",
      "id": "9ffb0dc1",
      "metadata": {
        "id": "9ffb0dc1"
      },
      "source": [
        "\n",
        "### Tips / Next steps\n",
        "- If you want WandB enabled later, remove the `WANDB_DISABLED` env lines and set `project` to a simple name (no slashes).  \n",
        "- To resume training with optimizer state, use a checkpoint and Ultralytics resume options (or CLI).  \n",
        "- If data loading stalls at 0%, start with `WORKERS=0` and `EPOCHS=1` for a smoke test.  \n",
        "- After training, you can download `best.pt` from the Drive path shown above.\n"
      ]
    },
    {
      "cell_type": "code",
      "source": [
        "# @title Mount & paths\n",
        "from pathlib import Path\n",
        "from google.colab import drive\n",
        "drive.mount('/content/drive')\n",
        "\n",
        "BASE_DRIVE = Path(\"/content/drive/MyDrive\")\n",
        "RUNS_DIR   = BASE_DRIVE / \"yolo_runs\"\n",
        "MODEL_OUT  = BASE_DRIVE / \"yolo_title_fixed\" / \"models\" / \"yolo\"\n",
        "DATASET    = BASE_DRIVE / \"yolo_title_clean\"\n",
        "\n",
        "MODEL_OUT.mkdir(parents=True, exist_ok=True)\n",
        "print(\"OK:\", RUNS_DIR.exists(), MODEL_OUT)\n"
      ],
      "metadata": {
        "colab": {
          "base_uri": "https://localhost:8080/"
        },
        "id": "Upf05Ti5FIli",
        "outputId": "9d046a08-95ca-4d1e-84ea-1995ffa788cd"
      },
      "id": "Upf05Ti5FIli",
      "execution_count": 14,
      "outputs": [
        {
          "output_type": "stream",
          "name": "stdout",
          "text": [
            "Drive already mounted at /content/drive; to attempt to forcibly remount, call drive.mount(\"/content/drive\", force_remount=True).\n",
            "OK: True /content/drive/MyDrive/yolo_title_fixed/models/yolo\n"
          ]
        }
      ]
    },
    {
      "cell_type": "code",
      "source": [
        "# @title Find latest run that has weights\n",
        "import os, time\n",
        "\n",
        "def latest_run_with_weights(runs_dir: Path):\n",
        "    cands = []\n",
        "    for d in runs_dir.glob(\"title-colab-*\"):\n",
        "        if (d/\"weights\"/\"best.pt\").exists():\n",
        "            cands.append((d, (d/\"weights\"/\"best.pt\").stat().st_mtime))\n",
        "    if not cands:\n",
        "        raise FileNotFoundError(\"Tidak ada run dengan weights di \" + str(runs_dir))\n",
        "    cands.sort(key=lambda x: x[1], reverse=True)\n",
        "    return cands[0][0]\n",
        "\n",
        "RUN_DIR = latest_run_with_weights(RUNS_DIR)\n",
        "BEST_PT = RUN_DIR / \"weights\" / \"best.pt\"\n",
        "LAST_PT = RUN_DIR / \"weights\" / \"last.pt\"\n",
        "print(\"RUN_DIR:\", RUN_DIR)\n",
        "print(\"best.pt:\", BEST_PT.exists(), BEST_PT)\n",
        "print(\"last.pt:\", LAST_PT.exists(), LAST_PT)\n"
      ],
      "metadata": {
        "colab": {
          "base_uri": "https://localhost:8080/"
        },
        "id": "nqZ4dqvzFI8B",
        "outputId": "f468c4ae-d9ea-4620-f393-ae2da9fe50b9"
      },
      "id": "nqZ4dqvzFI8B",
      "execution_count": 15,
      "outputs": [
        {
          "output_type": "stream",
          "name": "stdout",
          "text": [
            "RUN_DIR: /content/drive/MyDrive/yolo_runs/title-colab-20250817-145222\n",
            "best.pt: True /content/drive/MyDrive/yolo_runs/title-colab-20250817-145222/weights/best.pt\n",
            "last.pt: True /content/drive/MyDrive/yolo_runs/title-colab-20250817-145222/weights/last.pt\n"
          ]
        }
      ]
    },
    {
      "cell_type": "code",
      "source": [
        "# @title Predict one image\n",
        "# ambil satu contoh dari valid (atau ganti ke gambar lain)\n",
        "sample = next((DATASET/\"images\"/\"valid\").glob(\"*.jpg\"), None) or next((DATASET/\"images\"/\"valid\").glob(\"*.png\"), None)\n",
        "assert sample is not None, \"Tidak menemukan sample di images/valid\"\n",
        "pred = model.predict(\n",
        "    source=str(sample),\n",
        "    imgsz=640,\n",
        "    conf=0.25,\n",
        "    device=device,\n",
        "    save=True,                    # simpan visualisasi ke runs/predict\n",
        "    project=\"/content/preds\",\n",
        "    name=\"one\",\n",
        "    verbose=False\n",
        ")\n",
        "print(\"Saved viz to:\", pred[0].save_dir)\n"
      ],
      "metadata": {
        "colab": {
          "base_uri": "https://localhost:8080/"
        },
        "id": "6pC8BlJHFOgU",
        "outputId": "102da653-d73c-4d5a-a2b8-46ac0cc0fcb2"
      },
      "id": "6pC8BlJHFOgU",
      "execution_count": 17,
      "outputs": [
        {
          "output_type": "stream",
          "name": "stdout",
          "text": [
            "Results saved to \u001b[1m/content/preds/one2\u001b[0m\n",
            "Saved viz to: /content/preds/one2\n"
          ]
        }
      ]
    },
    {
      "cell_type": "code",
      "source": [
        "# @title Batch predict folder → Drive\n",
        "PRED_DRIVE = BASE_DRIVE / \"yolo_preds\" / \"valid\"\n",
        "PRED_DRIVE.mkdir(parents=True, exist_ok=True)\n",
        "\n",
        "preds = model.predict(\n",
        "    source=str(DATASET/\"images\"/\"valid\"),\n",
        "    imgsz=640,\n",
        "    conf=0.25,\n",
        "    device=device,\n",
        "    save=True,\n",
        "    project=str(PRED_DRIVE),  # langsung ke Drive\n",
        "    name=\"viz\",\n",
        "    stream=False\n",
        ")\n",
        "print(\"Preds saved under:\", PRED_DRIVE/\"viz\")\n"
      ],
      "metadata": {
        "colab": {
          "base_uri": "https://localhost:8080/"
        },
        "id": "kNcISxrAFSwG",
        "outputId": "2fdf92c9-257a-4fd0-ed0d-6a1672223818"
      },
      "id": "kNcISxrAFSwG",
      "execution_count": 18,
      "outputs": [
        {
          "output_type": "stream",
          "name": "stdout",
          "text": [
            "Results saved to \u001b[1m/content/drive/MyDrive/yolo_preds/valid/viz\u001b[0m\n",
            "Preds saved under: /content/drive/MyDrive/yolo_preds/valid/viz\n"
          ]
        }
      ]
    },
    {
      "cell_type": "code",
      "source": [
        "# @title Crop 'title' boxes to Drive + CSV\n",
        "import cv2, csv\n",
        "\n",
        "CROP_DIR = BASE_DRIVE / \"yolo_preds\" / \"valid\" / \"crops_title\"\n",
        "CROP_DIR.mkdir(parents=True, exist_ok=True)\n",
        "\n",
        "rows = [(\"src_image\",\"crop_path\",\"cls\",\"conf\",\"x1\",\"y1\",\"x2\",\"y2\",\"w\",\"h\")]\n",
        "title_id = None\n",
        "\n",
        "# pastikan id kelas 'title'\n",
        "for k,v in model.names.items():\n",
        "    if str(v).lower()==\"title\":\n",
        "        title_id = int(k)\n",
        "        break\n",
        "assert title_id is not None, f\"'title' tidak ditemukan di model.names={model.names}\"\n",
        "\n",
        "\n",
        "results = model.predict(\n",
        "    source=str(DATASET/\"images\"/\"valid\"),\n",
        "    imgsz=640,\n",
        "    conf=0.25,\n",
        "    device=device,\n",
        "    save=False,\n",
        "    stream=True\n",
        ")\n",
        "\n",
        "for r in results:\n",
        "    im_path = r.path\n",
        "    im = cv2.imread(im_path)\n",
        "    if im is None:\n",
        "        continue\n",
        "    h, w = im.shape[:2]\n",
        "    for b in r.boxes:\n",
        "        cls = int(b.cls.item())\n",
        "        if cls != title_id:\n",
        "            continue\n",
        "        conf = float(b.conf.item())\n",
        "        x1, y1, x2, y2 = map(int, b.xyxy[0].tolist())\n",
        "        x1, y1 = max(0,x1), max(0,y1)\n",
        "        x2, y2 = min(w-1,x2), min(h-1,y2)\n",
        "        crop = im[y1:y2, x1:x2]\n",
        "        if crop.size == 0:\n",
        "            continue\n",
        "        stem = Path(im_path).stem\n",
        "        out_path = CROP_DIR / f\"{stem}_title_{conf:.2f}_{x1}-{y1}-{x2}-{y2}.png\"\n",
        "        cv2.imwrite(str(out_path), crop)\n",
        "        rows.append((im_path, str(out_path), \"title\", conf, x1, y1, x2, y2, x2-x1, y2-y1))\n",
        "\n",
        "# simpan CSV\n",
        "CSV_PATH = CROP_DIR.parent / \"crops_title_index.csv\"\n",
        "with open(CSV_PATH, \"w\", newline=\"\", encoding=\"utf-8\") as f:\n",
        "    writer = csv.writer(f)\n",
        "    writer.writerows(rows)\n",
        "\n",
        "print(\"Crops dir:\", CROP_DIR)\n",
        "print(\"Index CSV:\", CSV_PATH)\n"
      ],
      "metadata": {
        "colab": {
          "base_uri": "https://localhost:8080/"
        },
        "id": "1hTrIgVYFU4x",
        "outputId": "38e7dc21-90f1-4e64-8fdc-9e9fe6396e79"
      },
      "id": "1hTrIgVYFU4x",
      "execution_count": 19,
      "outputs": [
        {
          "output_type": "stream",
          "name": "stdout",
          "text": [
            "Crops dir: /content/drive/MyDrive/yolo_preds/valid/crops_title\n",
            "Index CSV: /content/drive/MyDrive/yolo_preds/valid/crops_title_index.csv\n"
          ]
        }
      ]
    }
  ],
  "metadata": {
    "colab": {
      "provenance": [],
      "gpuType": "L4",
      "machine_shape": "hm"
    },
    "accelerator": "GPU",
    "language_info": {
      "name": "python"
    },
    "kernelspec": {
      "name": "python3",
      "display_name": "Python 3"
    }
  },
  "nbformat": 4,
  "nbformat_minor": 5
}